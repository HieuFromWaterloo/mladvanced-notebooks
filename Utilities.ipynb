{
 "cells": [
  {
   "cell_type": "markdown",
   "metadata": {},
   "source": [
    "<img src=\"images/ublogo.png\"/>\n",
    "\n",
    "### CSE610 - Bayesian Non-parametric Machine Learning\n",
    "\n",
    "  - Lecture Notes\n",
    "  - Instructor - Varun Chandola\n",
    "  - Term - Fall 2020"
   ]
  },
  {
   "cell_type": "code",
   "execution_count": 1,
   "metadata": {},
   "outputs": [],
   "source": [
    "import numpy as np\n",
    "from scipy.stats import multivariate_normal as mvn\n",
    "from sklearn.linear_model import LinearRegression\n",
    "import matplotlib.pyplot as plt\n",
    "import seaborn as sns\n",
    "sns.set(color_codes=True)\n",
    "sns.set_style('whitegrid')\n",
    "sns.set_context('paper',font_scale=2)\n",
    "from mpl_toolkits import mplot3d\n",
    "%config InlineBackend.print_figure_kwargs = {'bbox_inches':None}\n",
    "%matplotlib inline"
   ]
  },
  {
   "cell_type": "code",
   "execution_count": 2,
   "metadata": {},
   "outputs": [],
   "source": [
    "def bayesPosterior(X,y,sigmansq,Sigmap):\n",
    "    Ainv = np.linalg.inv((1/sigmansq)*np.dot(X,X.T) + np.linalg.inv(Sigmap))\n",
    "    wpost = (1/sigmansq)*np.dot(Ainv,np.dot(X,y))\n",
    "    return wpost,Ainv\n",
    "    "
   ]
  },
  {
   "cell_type": "code",
   "execution_count": null,
   "metadata": {},
   "outputs": [],
   "source": [
    "def plot_contours(ax,mean,cov,limits=(-10,10),cm='Reds',levels=6):\n",
    "    w1s = w2s = np.linspace(limits[0],limits[1],100)\n",
    "    W1,W2 = np.meshgrid(w1s,w2s)\n",
    "\n",
    "    pdfs = []\n",
    "    for w1,w2 in zip(W1.flatten(),W2.flatten()):\n",
    "        w = np.array([w1,w2])\n",
    "        pdfs.append(mvn.pdf(w,mean,cov))\n",
    "    pdfs = np.array(pdfs)\n",
    "    pdfs = np.reshape(pdfs,W1.shape)\n",
    "\n",
    "    cfset = ax.contourf(W1, W2, pdfs, levels=levels,cmap=cm)\n",
    "    cset = ax.contour(W1, W2, pdfs, levels=levels, colors='k',alpha=0.6)\n",
    "    ax.clabel(cset, inline=1, fontsize=10)"
   ]
  }
 ],
 "metadata": {
  "kernelspec": {
   "display_name": "Python 3",
   "language": "python",
   "name": "python3"
  },
  "language_info": {
   "codemirror_mode": {
    "name": "ipython",
    "version": 3
   },
   "file_extension": ".py",
   "mimetype": "text/x-python",
   "name": "python",
   "nbconvert_exporter": "python",
   "pygments_lexer": "ipython3",
   "version": "3.6.10"
  }
 },
 "nbformat": 4,
 "nbformat_minor": 4
}
