{
 "cells": [
  {
   "cell_type": "markdown",
   "metadata": {},
   "source": [
    "<img src=\"images/ublogo.png\"/>\n",
    "\n",
    "### CSE610 - Bayesian Non-parametric Machine Learning\n",
    "\n",
    "  - Lecture Notes\n",
    "  - Instructor - Varun Chandola\n",
    "  - Term - Fall 2020"
   ]
  },
  {
   "cell_type": "code",
   "execution_count": 4,
   "metadata": {},
   "outputs": [],
   "source": [
    "import numpy as np\n",
    "from scipy.stats import multivariate_normal as mvn\n",
    "from scipy.stats import zscore,invwishart,dirichlet,multinomial,norm\n",
    "import pandas as pd\n",
    "from sklearn.linear_model import LinearRegression\n",
    "import matplotlib.pyplot as plt\n",
    "import seaborn as sns\n",
    "import GPy\n",
    "import time\n",
    "import pods\n",
    "from sklearn.datasets import make_classification, openml\n",
    "from scipy.spatial.distance import pdist,squareform,cdist\n",
    "sns.set(color_codes=True)\n",
    "sns_c = sns.color_palette(palette='deep')\n",
    "sns.set_style('whitegrid')\n",
    "sns.set_context('paper',font_scale=2)\n",
    "from mpl_toolkits import mplot3d\n",
    "import plotly.graph_objects as go\n",
    "#%config InlineBackend.print_figure_kwargs = {'bbox_inches':None}\n",
    "%matplotlib inline"
   ]
  },
  {
   "cell_type": "code",
   "execution_count": null,
   "metadata": {},
   "outputs": [],
   "source": [
    "def bayesPosterior(X,y,sigmansq,Sigmap):\n",
    "    Ainv = np.linalg.inv((1/sigmansq)*np.dot(X,X.T) + np.linalg.inv(Sigmap))\n",
    "    wpost = (1/sigmansq)*np.dot(Ainv,np.dot(X,y))\n",
    "    return wpost,Ainv\n",
    "    "
   ]
  },
  {
   "cell_type": "code",
   "execution_count": null,
   "metadata": {},
   "outputs": [],
   "source": [
    "def plot_contours(ax,mean,cov,limits=(-10,10),cm='Reds',levels=6):\n",
    "    w1s = w2s = np.linspace(limits[0],limits[1],100)\n",
    "    W1,W2 = np.meshgrid(w1s,w2s)\n",
    "\n",
    "    pdfs = []\n",
    "    for w1,w2 in zip(W1.flatten(),W2.flatten()):\n",
    "        w = np.array([w1,w2])\n",
    "        pdfs.append(mvn.pdf(w,mean,cov))\n",
    "    pdfs = np.array(pdfs)\n",
    "    pdfs = np.reshape(pdfs,W1.shape)\n",
    "\n",
    "    cfset = ax.contourf(W1, W2, pdfs, levels=levels,cmap=cm)\n",
    "    cset = ax.contour(W1, W2, pdfs, levels=levels, colors='k',alpha=0.6)\n",
    "    ax.clabel(cset, inline=1, fontsize=10)"
   ]
  },
  {
   "cell_type": "code",
   "execution_count": null,
   "metadata": {},
   "outputs": [],
   "source": [
    "'''\n",
    "Copied from: https://github.com/krasserm/bayesian-machine-learning/\n",
    "'''\n",
    "def plot_gp(mu, cov, X, X_train=None, Y_train=None, samples=[],legend=True):\n",
    "    X = X.ravel()\n",
    "    mu = mu.ravel()\n",
    "    uncertainty = 1.96 * np.sqrt(np.diag(cov))\n",
    "    \n",
    "    plt.fill_between(X, mu + uncertainty, mu - uncertainty, alpha=0.1)\n",
    "    plt.plot(X, mu, label='Mean')\n",
    "    for i, sample in enumerate(samples):\n",
    "        plt.plot(X, sample, lw=1, ls='--', label=f'Sample {i+1}')\n",
    "    if X_train is not None:\n",
    "        plt.plot(X_train, Y_train, 'rx')\n",
    "    if legend:\n",
    "        plt.legend(ncol=3)"
   ]
  },
  {
   "cell_type": "code",
   "execution_count": null,
   "metadata": {},
   "outputs": [],
   "source": [
    "def load_mauna_loa_atmospheric_co2():\n",
    "    ml_data = openml.fetch_openml(data_id=41187)\n",
    "    months = []\n",
    "    ppmv_sums = []\n",
    "    counts = []\n",
    "\n",
    "    y = ml_data.data[:, 0]\n",
    "    m = ml_data.data[:, 1]\n",
    "    month_float = y + (m - 1) / 12\n",
    "    ppmvs = ml_data.target\n",
    "\n",
    "    for month, ppmv in zip(month_float, ppmvs):\n",
    "        if not months or month != months[-1]:\n",
    "            months.append(month)\n",
    "            ppmv_sums.append(ppmv)\n",
    "            counts.append(1)\n",
    "        else:\n",
    "            # aggregate monthly sum to produce average\n",
    "            ppmv_sums[-1] += ppmv\n",
    "            counts[-1] += 1\n",
    "\n",
    "    months = np.asarray(months).reshape(-1, 1)\n",
    "    avg_ppmvs = np.asarray(ppmv_sums) / counts\n",
    "    return months, avg_ppmvs\n",
    "\n",
    "\n"
   ]
  },
  {
   "cell_type": "code",
   "execution_count": null,
   "metadata": {},
   "outputs": [],
   "source": [
    "def plot_2outputs(m,xlim,ylim1,ylim2):\n",
    "    fig = plt.figure(figsize=(12,8))\n",
    "    #Output 1\n",
    "    ax1 = fig.add_subplot(211)\n",
    "    ax1.set_xlim(xlim)\n",
    "    ax1.set_title('Output 1')\n",
    "    m.plot(plot_limits=xlim,fixed_inputs=[(1,0)],which_data_rows=slice(0,100),ax=ax1)\n",
    "    ax1.plot(Xt1[:,:1],Yt1,'rx',mew=1.5)\n",
    "    ax1.set_ylim(ylim1)\n",
    "    #Output 2\n",
    "    ax2 = fig.add_subplot(212)\n",
    "    ax2.set_xlim(xlim)\n",
    "    ax2.set_title('Output 2')\n",
    "    m.plot(plot_limits=xlim,fixed_inputs=[(1,1)],which_data_rows=slice(100,200),ax=ax2)\n",
    "    ax2.plot(Xt2[:,:1],Yt2,'rx',mew=1.5)\n",
    "    ax2.set_ylim(ylim2)"
   ]
  },
  {
   "cell_type": "code",
   "execution_count": null,
   "metadata": {},
   "outputs": [],
   "source": [
    "def normalinvwishartsample(params):\n",
    "    '''\n",
    "    Generate sample from a Normal Inverse Wishart distribution\n",
    "\n",
    "    Inputs:\n",
    "    params - Parameters for the NIW distribution \n",
    "        mu     - Mean parameter: n x 1 numpy array\n",
    "        lmbda  - Scalar parameter for normal distribution covariance matrix\n",
    "        Psi    - Precision parameter: d x d numpy array\n",
    "        nu     - Scalar parameter for Wishart distribution\n",
    "\n",
    "    Output:\n",
    "    Sample - Sample mean vector, mu_s and Sample covariance matrix, W_s\n",
    "    '''\n",
    "    mu,lmbda,Psi,nu = params\n",
    "    # first sample W from a Inverse Wishart distribution\n",
    "    W_s = invwishart(df=nu, scale=Psi).rvs()\n",
    "    mu_s = np.random.multivariate_normal(mu.flatten(),W_s/lmbda,1) \n",
    "    return np.transpose(mu_s),W_s"
   ]
  },
  {
   "cell_type": "code",
   "execution_count": 1,
   "metadata": {},
   "outputs": [],
   "source": [
    "def normalinvwishartposterior(X,params):\n",
    "    '''\n",
    "    Posterior distribution for Gaussian likelihood and Normal Inverse Wishart prior\n",
    "\n",
    "    Inputs:\n",
    "    X     - Dataset matrix: n x d numpy array\n",
    "    params - Parameters for the NIW distribution \n",
    "        mu    - Mean parameter: n x 1 numpy array\n",
    "        lmbda - Scalar parameter for normal distribution covariance matrix\n",
    "        Psi   - Precision parameter: d x d numpy array\n",
    "        nu    - Scalar parameter for Wishart distribution\n",
    "\n",
    "    Output:\n",
    "    Posterior distribution parameters - tuple (mu_n, lmbda_n,Psi_n, nu_n)\n",
    "    '''\n",
    "    mu,lmbda,Psi,nu = params\n",
    "\n",
    "    n = X.shape[0]\n",
    "    d = X.shape[1]\n",
    "    X_mean = np.mean(X,axis=0)\n",
    "    X_mean = X_mean[:,np.newaxis]\n",
    "    mu_n = (lmbda*mu + n*X_mean)/(lmbda+n)\n",
    "    S = scatter(X)\n",
    "    Psi_n = Psi + S + ((lmbda*n)/(lmbda+n))*np.dot(mu - X_mean,np.transpose(mu - X_mean))\n",
    "\n",
    "    nu_n = nu + n\n",
    "    lmbda_n = lmbda + n\n",
    "    Psi_s = invwishart(df=nu_n, scale=Psi_n).rvs()\n",
    "    den = nu_n - d + 1\n",
    "    mu_s = multivariatet(mu_n.flatten(),Psi_n/(lmbda_n*den),den,1)\n",
    "    return (np.transpose(mu_s), Psi_s)\n",
    "\n"
   ]
  },
  {
   "cell_type": "code",
   "execution_count": null,
   "metadata": {},
   "outputs": [],
   "source": [
    "def plotClusters(samples,thetas=None,z=None):\n",
    "    if thetas == None:\n",
    "        plt.scatter(samples[:,0],samples[:,1])\n",
    "    else:\n",
    "        thetameans = []\n",
    "        K = len(thetas)\n",
    "        for k in range(K):\n",
    "            thetameans.append(thetas[k][0])\n",
    "        thetameans = np.array(thetameans)\n",
    "        for k in range(K):\n",
    "            plt.scatter(samples[z == k,0],samples[z == k,1])\n",
    "        plt.legend([str(k) for k in range(K)])\n",
    "        plt.scatter(thetameans[:,0],thetameans[:,1],marker='x')\n",
    "        for k in range(K):\n",
    "            plt.text(thetameans[k,0],thetameans[k,1],str(k))"
   ]
  },
  {
   "cell_type": "code",
   "execution_count": null,
   "metadata": {},
   "outputs": [],
   "source": [
    "def scatter(x):\n",
    "    return np.dot(np.transpose(x - np.mean(x,0)),x - np.mean(x,0))"
   ]
  },
  {
   "cell_type": "code",
   "execution_count": null,
   "metadata": {},
   "outputs": [],
   "source": [
    "def multivariatet(mu,Sigma,N,M):\n",
    "    '''\n",
    "    Output:\n",
    "    Produce M samples of d-dimensional multivariate t distribution\n",
    "    Input:\n",
    "    mu = mean (d dimensional numpy array or scalar)\n",
    "    Sigma = scale matrix (dxd numpy array)\n",
    "    N = degrees of freedom\n",
    "    M = # of samples to produce\n",
    "    '''\n",
    "    d = len(Sigma)\n",
    "    g = np.tile(np.random.gamma(N/2.,2./N,M),(d,1)).T\n",
    "    Z = np.random.multivariate_normal(np.zeros(d),Sigma,M)\n",
    "    return mu + Z/np.sqrt(g)"
   ]
  }
 ],
 "metadata": {
  "kernelspec": {
   "display_name": "Python 3",
   "language": "python",
   "name": "python3"
  },
  "language_info": {
   "codemirror_mode": {
    "name": "ipython",
    "version": 3
   },
   "file_extension": ".py",
   "mimetype": "text/x-python",
   "name": "python",
   "nbconvert_exporter": "python",
   "pygments_lexer": "ipython3",
   "version": "3.6.10"
  },
  "latex_envs": {
   "LaTeX_envs_menu_present": true,
   "autoclose": false,
   "autocomplete": true,
   "bibliofile": "biblio.bib",
   "cite_by": "apalike",
   "current_citInitial": 1,
   "eqLabelWithNumbers": true,
   "eqNumInitial": 1,
   "hotkeys": {
    "equation": "Ctrl-E",
    "itemize": "Ctrl-I"
   },
   "labels_anchors": false,
   "latex_user_defs": false,
   "report_style_numbering": false,
   "user_envs_cfg": false
  }
 },
 "nbformat": 4,
 "nbformat_minor": 4
}
