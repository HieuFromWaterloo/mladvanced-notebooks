{
 "cells": [
  {
   "cell_type": "markdown",
   "metadata": {},
   "source": [
    "<img src=\"images/ublogo.png\"/>\n",
    "\n",
    "### CSE610 - Bayesian Non-parametric Machine Learning\n",
    "\n",
    "  - Lecture Notes\n",
    "  - Instructor - Varun Chandola\n",
    "  - Term - Fall 2020"
   ]
  },
  {
   "cell_type": "markdown",
   "metadata": {},
   "source": [
    "### Objective\n",
    "The objective of this notebook is to discuss the relationship between Gaussian process based methods, discussed in the class so far, and deep-learning. In particular, we will talk about: a). the relationship between the two, b). how to combine GPs with neural networks, and c). how to make GPs behave like deep neural networks, i.e., deep Gaussian Processes.\n",
    "\n",
    "<div class=\"alert alert-info\">\n",
    "\n",
    "**Note:** This material is based on a collection of recent papers on this topic, including [Deep neural networks as Gaussian Processes](https://arxiv.org/pdf/1711.00165.pdf), and [Deep Gaussian Processes](http://proceedings.mlr.press/v31/damianou13a.pdf).\n",
    "\n",
    "</div>"
   ]
  },
  {
   "cell_type": "markdown",
   "metadata": {},
   "source": [
    "### Equivalence between GP and Neural Networks\n",
    "\n",
    "> This was established way back in 1994 by Radford Neal in this PhD thesis - *Bayesian Learning for Neural Networks*\n",
    "\n",
    "Consider a multi-layered perceptron. For any hidden layer (indexed by $l$), we will use the following notation:\n",
    "- $N_l$ - width of the layer $l$ or the number of nodes\n",
    "- ${\\bf x}^l$ - input to the $l^{th}$ layer (length will be $N_{l-1}$)\n",
    "- ${\\bf z}^l$ - output (before non-linear transformation) of the $l^{th}$ layer (length will be $N_l$) \n",
    "- ${\\bf b}^l$ - bias vector for the $l^{th}$ layer (length will be $N_l$)\n",
    "- $\\phi(\\cdot)$ - non-linear activation function\n",
    "- $i$ - index of the $i^{th}$ node in the hidden layer\n",
    "- $W^l$ - weight matrix at the $l^{th}$ hidden layer\n",
    "  * $W^{l}_{ij}$ - The $j^{th}$ component of the weight vector for the $i^{th}$ unit in the $l^{th}$ layer\n",
    "\n",
    "Thus, ${\\bf x}^0$ will correspond to the input (${\\bf x}$) to the neural network, while $\\phi({\\bf z}^L)$ will be the output of the neural network, where $L$ is the index of the final layer.\n",
    "\n",
    "Consider a single-hidden layer neural network. The input to the final layer will be, ${\\bf x}^1$, whose $j^{th}$ component will be:\n",
    "$$\n",
    "x_j^1({\\bf x}) = \\phi(b_j^0 + \\sum_{k=1}^d W^0_{jk}x_k)\n",
    "$$\n",
    "Notice that we are using $x_k$ (the $k^{th}$ entry in the input vector ${\\bf x}$), instead of the general term $x^0_k$.\n",
    "\n",
    "The output of the final layer will be:\n",
    "$$\n",
    "z_i^1({\\bf x}) = b_i^1 + \\sum_{j=1}^{N_0} W^1_{ij}x^1_j\n",
    "$$\n",
    "\n",
    "Also note that we are writing these terms as a function of the input $({\\bf x})$, since their values depend on the input to the neural network.\n",
    "\n",
    "We assume that the weight and bias parameters for layer $l$ are independent and randomly drawn from a Gaussian with zero mean and variance as $\\sigma^2_w/N_l$ and $\\sigma^2_b$, respectively.\n",
    "\n",
    "> **Observation 1**: The post-activations, $x^1_j({\\bf x})$ and $x^1_{j'}({\\bf x})$ are independent of each other. This is true because the weight and bias parameters are assumed to be i.i.d.\n",
    "\n",
    "> **Observation 2**: $z^1_i({\\bf x})$ will be Gaussian distributed. This is true because $z^1_i({\\bf x})$ is a sum of i.i.d. terms. And, the **Central Limit Theorem** dictates that in the limit of infinite width, i.e., $N_1 \\rightarrow \\infty$, the sum will be a random variable with a Gaussian distribution.\n",
    "\n",
    "Consider the values of $z^1_i$ for several inputs, $\\{{\\bf x}_1, {\\bf x}_2,\\ldots,{\\bf x}_k\\}$.\n",
    "> **Observation 3**: The finite collection, $\\{z^1_i({\\bf x}_1), z^1_i({\\bf x}_2),\\ldots,z^1_i({\\bf x}_k\\})$, will have a joint multivariate Gaussian distribution.\n",
    "\n",
    "If we consider $z^1_i(\\cdot)$ as a function of ${\\bf x}$, then the above observation is equivalent to a Gaussian process.\n",
    "\n",
    "> **Observation 4**: $z^1_i({\\bf x}) \\sim \\mathcal{GP}(\\mu^1({\\bf x}),k^1({\\bf x},{\\bf x}'))$\n",
    "\n",
    "Note that the GP prior is independent of $i$.\n",
    "\n",
    "Since the parameters have zero mean, the mean function will also be 0, i.e.,\n",
    "$$\n",
    "\\mu^1({\\bf x}) \\equiv \\mathbb{E}[z_i^1({\\bf x})] = 0\n",
    "$$\n",
    "The covariance function can also be derived from the above expressions as:\n",
    "$$\n",
    "k^1({\\bf x},{\\bf x}') \\equiv \\mathbb{E}[z_i^1({\\bf x})z_i^1({\\bf x}')] = \\sigma^2_b + \\sigma^2_w\\mathbb{E}[x_i^1({\\bf x})x_i^1({\\bf x}')] \\equiv \\sigma^2_b + \\sigma^2_wC({\\bf x},{\\bf x}')\n",
    "$$\n",
    "where $C(\\cdot,\\cdot)$ can be analytically computed for a given activation function $\\phi(\\cdot)$. \n",
    "\n",
    "For example, as discussed in Chapter 4 of the GPML book, if $\\phi(\\cdot)$ is the `erf` function, i.e.,\n",
    "$$\n",
    "\\phi(y) = erf(y) = \\frac{2}{\\pi}\\int_0^y e^{-t^2}dt\n",
    "$$\n",
    "then the corresponding $C$ function is obtained as:\n",
    "$$\n",
    "C({\\bf x},{\\bf x}') = \\frac{2}{\\pi}\\sin^{-1}\\left(\\frac{2\\tilde{{\\bf x}}^\\top\\Sigma \\tilde{{\\bf x}}'}{\\sqrt{(1+2\\tilde{{\\bf x}}^\\top\\Sigma \\tilde{{\\bf x}})(1+2\\tilde{{\\bf x}}'^\\top\\Sigma \\tilde{{\\bf x}}')}}\\right)\n",
    "$$\n",
    "where $\\tilde{\\bf x}'$ is the augmented input vector (including a 1 for the bias term) and $\\Sigma$ is a diagonal matrix consisting of $\\sigma^2_b$ and $\\sigma^2_w$ on the diagonal terms."
   ]
  },
  {
   "cell_type": "markdown",
   "metadata": {},
   "source": [
    "<div class=\"alert alert-warning\">\n",
    "Above discussion shows that an infinite width single-hidden layer neural network is equivalent to a GP with a specific covariance function, which depends on the activation function used in the neural network.\n",
    "</div>\n",
    "\n",
    "This can be extended to deeper layers by induction. Thus, if the neural network has several hidden layers with infinite width, the output at each hidden layer is equivalent to a GP, where the covariance function at a given hidden layer recursively depends on the covariance function at the previous hidden layer.\n",
    "\n",
    "$$\n",
    "k^l({\\bf x},{\\bf x}') = \\sigma^2_b + \\sigma^2_wF_{\\phi}(k^{l-1}({\\bf x},{\\bf x}'),k^{l-1}({\\bf x},{\\bf x}),k^{l-1}({\\bf x}',{\\bf x}'))\n",
    "$$\n",
    "where $F_{\\phi}$ is a determinstic function whose form depends on the activation function $\\phi$."
   ]
  },
  {
   "cell_type": "markdown",
   "metadata": {},
   "source": [
    "### What does this get us?\n",
    "\n",
    "With the above equivalence, we can now construct a GP model, and use it as a infinite width neural network."
   ]
  },
  {
   "cell_type": "markdown",
   "metadata": {},
   "source": [
    "<img src='images/gpnn.png'/>"
   ]
  },
  {
   "cell_type": "markdown",
   "metadata": {},
   "source": [
    "A [recent study](https://arxiv.org/pdf/1808.05587.pdf) extends the above idea to *convolution neural networks*. We will not discuss it here."
   ]
  },
  {
   "cell_type": "markdown",
   "metadata": {},
   "source": [
    "### Deep Gaussian Processes\n",
    "\n",
    "Making GPs deeper (similar to a deep neural network) to make them more powerful.\n",
    "\n",
    "Consider the following deep neural network:\n",
    "\n",
    "<img src=\"images/deepnn.png\" width=\"400\" height=\"600\"/>\n",
    "\n",
    "Each layer of the neural network is able to perform a certain interaction of the inputs (from the previous layer) and pass it on.\n",
    "\\begin{eqnarray}\n",
    "{\\bf h}_1 & = & \\phi({\\bf W}_1{\\bf x})\\\\\n",
    "{\\bf h}_2 & = & \\phi({\\bf W}_2{\\bf h}_1)\\\\\n",
    "{\\bf h}_3 & = & \\phi({\\bf W}_3{\\bf h}_2)\\\\\n",
    "y & = & {\\bf w}_4^\\top{\\bf h}_3\\\\\n",
    "\\end{eqnarray}\n",
    "\n",
    "Of course, we can keep increasing the number of layers, or adding more nodes (units) in each layer to make the model more *expressive*. However, this could very easily lead to *overfitting issues*.\n",
    "\n",
    "There are ways to handle this, including regularization, dropout, or even reparameterize each ${\\bf W}$ with a low-rank approximation, e.g., **singular value decomposition**:\n",
    "$$\n",
    "{\\bf W} = {\\bf U}\\boldsymbol{\\Lambda}{\\bf V}^\\top\n",
    "$$"
   ]
  },
  {
   "cell_type": "markdown",
   "metadata": {},
   "source": [
    "The above solution (of using SVD) would give us an alternate neural network architecture with *bottleneck\" layers:\n",
    "<img src=\"images/deepnn_bottleneck.png\" width=\"700\" height=\"800\"/>\n",
    "\n",
    "which can be mathematically written as:\n",
    "\n",
    "\\begin{eqnarray}\n",
    "{\\bf z}_1 & = & {\\bf V}_1^\\top{\\bf x}\\\\\n",
    "{\\bf h}_1 & = & \\phi({\\bf U}_1{\\bf z}_1)\\\\\n",
    "{\\bf z}_2 & = & {\\bf V}_2^\\top{\\bf h}_1\\\\\n",
    "{\\bf h}_2 & = & \\phi({\\bf U}_2{\\bf z}_2)\\\\\n",
    "{\\bf z}_3 & = & {\\bf V}_3^\\top{\\bf h}_2\\\\\n",
    "{\\bf h}_3 & = & \\phi({\\bf U}_3{\\bf z}_3)\\\\\n",
    "y & = & {\\bf w}_4^\\top{\\bf h}_3\\\\\n",
    "\\end{eqnarray}\n",
    "\n",
    "or, more concisely:\n",
    "\\begin{eqnarray}\n",
    "{\\bf z}_1 & = & {\\bf V}_1^\\top{\\bf x}\\\\\n",
    "{\\bf z}_2 & = & {\\bf V}_2^\\top\\phi({\\bf U}_1{\\bf z}_1)\\\\\n",
    "{\\bf z}_3 & = & {\\bf V}_3^\\top\\phi({\\bf U}_2{\\bf z}_2)\\\\\n",
    "y & = & {\\bf w}_4^\\top{\\bf h}_3\\\\\n",
    "\\end{eqnarray}\n",
    "\n",
    "#### Introducing a cascade of Gaussian Processes\n",
    "What if we replace each of these neural networks with a Gaussian process? Remember that a Gaussian process layer would be equivalent to using a neural network layer with infinite width.\n",
    "\\begin{eqnarray}\n",
    "{\\bf z}_1 & = & f_1({\\bf x})\\\\\n",
    "{\\bf z}_2 & = & f_2({\\bf z}_1)\\\\\n",
    "{\\bf z}_3 & = & f_3({\\bf z}_2)\\\\\n",
    "y & = & f_4({\\bf z}_3)\n",
    "\\end{eqnarray}\n",
    "\n",
    "You can thinking of a deep GP as a composite *multivariate* function:\n",
    "$$\n",
    "g({\\bf x}) = f_5(f_4(f_3(f_2(f_1({\\bf x})))))\n",
    "$$\n",
    "or from a probabilistic perspective:\n",
    "$$\n",
    "p(y\\vert {\\bf x}) = p(y\\vert {\\bf f}_5)p({\\bf f}_5 \\vert {\\bf f}_4)p({\\bf f}_4 \\vert {\\bf f}_3)p({\\bf f}_3 \\vert {\\bf f}_2)p({\\bf f}_2 \\vert {\\bf f}_1)p({\\bf f}_1 \\vert {\\bf x})\n",
    "$$\n",
    "\n",
    "Here I am using ${\\bf f}_i$ to denote the output of the $i^{th}$ function, $f_i()$.\n",
    "\n",
    "<img src=\"images/deepgp_graphical.png\"/>"
   ]
  },
  {
   "cell_type": "markdown",
   "metadata": {},
   "source": [
    "### Why deep GPs?\n",
    "\n",
    "If the output of composing many functions is another function, why bother with stacking them up, why not direcly model the final function.\n",
    "\n",
    "The reason is that we can use different types of covariance functions in each layer and make the model more expressive.\n",
    "\n",
    "Another advantage is that we can add other dependencies in the above chain. For instance we can have output nodes emerging at any depth of the chain.\n",
    "\n",
    "<img src=\"images/deepgp_graphical2.png\"/>"
   ]
  },
  {
   "cell_type": "markdown",
   "metadata": {},
   "source": [
    "### So what's the issue?\n",
    "\n",
    "The above description of deep GP seems straightforward. You introduce a sequence of GP functions, each applied to the previous function. However, this introduces a lot of challenges for inference and training. The main reason is that the output distribution (due to several layers of non-linear transformations) will no longer be Gaussian.\n",
    "\n",
    "<img src=\"images/nonlinear_transformation.png\"/>\n",
    "\n",
    "Standard approaches for inference and Bayesian training of the hyper-parameters will fail here. The paper on [Deep Gaussian Processes](http://proceedings.mlr.press/v31/damianou13a.pdf) proposes an alternate variational inference approach (will not be discussed here)."
   ]
  },
  {
   "cell_type": "code",
   "execution_count": 6,
   "metadata": {},
   "outputs": [
    {
     "data": {
      "text/html": [
       "<iframe width=\"560\" height=\"315\" src=\"https://www.youtube.com/embed/XhIvygQYFFQ?rel=0&amp;controls=0&amp;showinfo=0\" frameborder=\"0\" allowfullscreen></iframe>"
      ],
      "text/plain": [
       "<IPython.core.display.HTML object>"
      ]
     },
     "execution_count": 6,
     "metadata": {},
     "output_type": "execute_result"
    }
   ],
   "source": [
    "from IPython.display import HTML\n",
    "\n",
    "# Youtube\n",
    "HTML('<iframe width=\"560\" height=\"315\" src=\"https://www.youtube.com/embed/XhIvygQYFFQ?rel=0&amp;controls=0&amp;showinfo=0\" frameborder=\"0\" allowfullscreen></iframe>')\n"
   ]
  },
  {
   "cell_type": "markdown",
   "metadata": {},
   "source": [
    "### Deep GP using `GPy`\n",
    "\n",
    "You will need to install `PyDeepGP` for this demonstration:\n",
    "```shell\n",
    "pip install git+https://github.com/SheffieldML/PyDeepGP.git\n",
    "```\n",
    "\n",
    "#### Data - Olympic Marathon Data\n",
    "The data consists of the pace of Olympic Gold Medal Marathon winners for the Olympics from 1896 to present. First we load in the data and plot."
   ]
  },
  {
   "cell_type": "code",
   "execution_count": 20,
   "metadata": {},
   "outputs": [],
   "source": [
    "%run Utilities.ipynb\n",
    "import teaching_plots as plot\n",
    "import mlai"
   ]
  },
  {
   "cell_type": "code",
   "execution_count": 26,
   "metadata": {},
   "outputs": [],
   "source": [
    "data = pods.datasets.olympic_marathon_men()\n",
    "x = data['X']\n",
    "y = data['Y']\n",
    "\n",
    "offset = y.mean()\n",
    "scale = np.sqrt(y.var())\n",
    "\n",
    "yhat = (y-offset)/scale"
   ]
  },
  {
   "cell_type": "code",
   "execution_count": 24,
   "metadata": {},
   "outputs": [
    {
     "data": {
      "text/plain": [
       "[<matplotlib.lines.Line2D at 0x7fdc6fb52f28>]"
      ]
     },
     "execution_count": 24,
     "metadata": {},
     "output_type": "execute_result"
    },
    {
     "data": {
      "image/png": "[encoded data removed]",
      "text/plain": [
       "<Figure size 432x288 with 1 Axes>"
      ]
     },
     "metadata": {
      "needs_background": "light"
     },
     "output_type": "display_data"
    }
   ],
   "source": [
    "plt.plot(x,y,'.')"
   ]
  },
  {
   "cell_type": "code",
   "execution_count": 39,
   "metadata": {},
   "outputs": [],
   "source": [
    "m_full = GPy.models.GPRegression(x,yhat)\n",
    "_ = m_full.optimize() # Optimize parameters of covariance function"
   ]
  },
  {
   "cell_type": "code",
   "execution_count": 40,
   "metadata": {},
   "outputs": [],
   "source": [
    "xt = np.linspace(1870,2030,200)[:,np.newaxis]\n",
    "yt_mean, yt_var = m_full.predict(xt)\n",
    "yt_sd=np.sqrt(yt_var)"
   ]
  },
  {
   "cell_type": "code",
   "execution_count": 41,
   "metadata": {},
   "outputs": [
    {
     "data": {
      "text/plain": [
       "[<matplotlib.lines.Line2D at 0x7fdc70fdacc0>]"
      ]
     },
     "execution_count": 41,
     "metadata": {},
     "output_type": "execute_result"
    },
    {
     "data": {
      "image/png": "[encoded data removed]",
      "text/plain": [
       "<Figure size 432x288 with 1 Axes>"
      ]
     },
     "metadata": {
      "needs_background": "light"
     },
     "output_type": "display_data"
    }
   ],
   "source": [
    "plot_gp(yt_mean,yt_sd, xt,legend=False)\n",
    "plt.plot(x,yhat,'.')"
   ]
  },
  {
   "cell_type": "markdown",
   "metadata": {},
   "source": [
    "We can remove an outlier that might be causing the model fits to be erratic."
   ]
  },
  {
   "cell_type": "code",
   "execution_count": 55,
   "metadata": {},
   "outputs": [
    {
     "data": {
      "text/plain": [
       "[<matplotlib.lines.Line2D at 0x7fdc72e91898>]"
      ]
     },
     "execution_count": 55,
     "metadata": {},
     "output_type": "execute_result"
    },
    {
     "data": {
      "image/png": "[encoded data removed]",
      "text/plain": [
       "<Figure size 432x288 with 1 Axes>"
      ]
     },
     "metadata": {
      "needs_background": "light"
     },
     "output_type": "display_data"
    }
   ],
   "source": [
    "x_clean=np.vstack((x[0:2, :], x[3:, :]))\n",
    "y_clean=np.vstack((y[0:2, :], y[3:, :]))\n",
    "y_clean_hat = (y_clean-offset)/scale\n",
    "\n",
    "m_clean = GPy.models.GPRegression(x_clean,y_clean_hat)\n",
    "_ = m_clean.optimize()\n",
    "\n",
    "xt = np.linspace(1870,2030,200)[:,np.newaxis]\n",
    "yt_mean, yt_var = m_clean.predict(xt)\n",
    "yt_sd=np.sqrt(yt_var)\n",
    "\n",
    "plot_gp(yt_mean,yt_sd, xt,legend=False)\n",
    "plt.plot(x_clean,y_clean_hat,'.')"
   ]
  },
  {
   "cell_type": "markdown",
   "metadata": {},
   "source": [
    "#### Deep GP fit"
   ]
  },
  {
   "cell_type": "code",
   "execution_count": 43,
   "metadata": {},
   "outputs": [],
   "source": [
    "import deepgp"
   ]
  },
  {
   "cell_type": "code",
   "execution_count": 45,
   "metadata": {},
   "outputs": [],
   "source": [
    "hidden = 1\n",
    "m = deepgp.DeepGP([y.shape[1],hidden,x.shape[1]],Y=yhat, X=x, inits=['PCA','PCA'], \n",
    "                  kernels=[GPy.kern.RBF(hidden,ARD=True),\n",
    "                           GPy.kern.RBF(x.shape[1],ARD=True)], # the kernels for each layer\n",
    "                  num_inducing=50, back_constraint=False)"
   ]
  },
  {
   "cell_type": "code",
   "execution_count": 49,
   "metadata": {},
   "outputs": [],
   "source": [
    "# Call the initalization\n",
    "#m.initialize()"
   ]
  },
  {
   "cell_type": "code",
   "execution_count": 47,
   "metadata": {},
   "outputs": [
    {
     "data": {
      "application/vnd.jupyter.widget-view+json": {
       "model_id": "ec4b94d0f8a04e6186480f9b9dac3494",
       "version_major": 2,
       "version_minor": 0
      },
      "text/plain": [
       "HBox(children=(VBox(children=(IntProgress(value=0, max=10000), HTML(value=''))), Box(children=(HTML(value=''),…"
      ]
     },
     "metadata": {},
     "output_type": "display_data"
    }
   ],
   "source": [
    "for layer in m.layers:\n",
    "    layer.likelihood.variance.constrain_positive(warning=False)\n",
    "m.optimize(messages=True,max_iters=10000)"
   ]
  },
  {
   "cell_type": "code",
   "execution_count": 50,
   "metadata": {},
   "outputs": [],
   "source": [
    "#m.staged_optimize(messages=(True,True,True))\n"
   ]
  },
  {
   "cell_type": "code",
   "execution_count": 56,
   "metadata": {},
   "outputs": [
    {
     "data": {
      "text/plain": [
       "[<matplotlib.lines.Line2D at 0x7fdc72eb4550>]"
      ]
     },
     "execution_count": 56,
     "metadata": {},
     "output_type": "execute_result"
    },
    {
     "data": {
      "image/png": "[encoded data removed]",
      "text/plain": [
       "<Figure size 432x288 with 1 Axes>"
      ]
     },
     "metadata": {
      "needs_background": "light"
     },
     "output_type": "display_data"
    }
   ],
   "source": [
    "xt = np.linspace(1870,2030,200)[:,np.newaxis]\n",
    "yt_mean, yt_var = m.predict(xt)\n",
    "yt_sd=np.sqrt(yt_var)\n",
    "\n",
    "plot_gp(yt_mean,yt_sd, xt,legend=False)\n",
    "plt.plot(x_clean,y_clean_hat,'.')"
   ]
  }
 ],
 "metadata": {
  "kernelspec": {
   "display_name": "Python 3",
   "language": "python",
   "name": "python3"
  },
  "language_info": {
   "codemirror_mode": {
    "name": "ipython",
    "version": 3
   },
   "file_extension": ".py",
   "mimetype": "text/x-python",
   "name": "python",
   "nbconvert_exporter": "python",
   "pygments_lexer": "ipython3",
   "version": "3.6.10"
  },
  "latex_envs": {
   "LaTeX_envs_menu_present": true,
   "autoclose": false,
   "autocomplete": true,
   "bibliofile": "biblio.bib",
   "cite_by": "apalike",
   "current_citInitial": 1,
   "eqLabelWithNumbers": true,
   "eqNumInitial": 1,
   "hotkeys": {
    "equation": "Ctrl-E",
    "itemize": "Ctrl-I"
   },
   "labels_anchors": false,
   "latex_user_defs": false,
   "report_style_numbering": false,
   "user_envs_cfg": true
  }
 },
 "nbformat": 4,
 "nbformat_minor": 4
}
